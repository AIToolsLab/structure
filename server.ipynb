{
 "cells": [
  {
   "cell_type": "code",
   "execution_count": 1,
   "metadata": {},
   "outputs": [
    {
     "name": "stdout",
     "output_type": "stream",
     "text": [
      "Requirement already satisfied: nest_asyncio in /usr/local/Caskroom/miniconda/base/lib/python3.9/site-packages (1.5.6)\n",
      "Requirement already satisfied: fastapi in /usr/local/Caskroom/miniconda/base/lib/python3.9/site-packages (0.85.1)\n",
      "Collecting uvicorn\n",
      "  Downloading uvicorn-0.19.0-py3-none-any.whl (56 kB)\n",
      "\u001b[K     |████████████████████████████████| 56 kB 3.9 MB/s eta 0:00:011\n",
      "\u001b[?25hRequirement already satisfied: starlette==0.20.4 in /usr/local/Caskroom/miniconda/base/lib/python3.9/site-packages (from fastapi) (0.20.4)\n",
      "Requirement already satisfied: pydantic!=1.7,!=1.7.1,!=1.7.2,!=1.7.3,!=1.8,!=1.8.1,<2.0.0,>=1.6.2 in /usr/local/Caskroom/miniconda/base/lib/python3.9/site-packages (from fastapi) (1.10.2)\n",
      "Requirement already satisfied: typing-extensions>=3.10.0 in /usr/local/Caskroom/miniconda/base/lib/python3.9/site-packages (from starlette==0.20.4->fastapi) (4.3.0)\n",
      "Requirement already satisfied: anyio<5,>=3.4.0 in /usr/local/Caskroom/miniconda/base/lib/python3.9/site-packages (from starlette==0.20.4->fastapi) (3.6.2)\n",
      "Collecting h11>=0.8\n",
      "  Downloading h11-0.14.0-py3-none-any.whl (58 kB)\n",
      "\u001b[K     |████████████████████████████████| 58 kB 9.9 MB/s  eta 0:00:01\n",
      "\u001b[?25hRequirement already satisfied: click>=7.0 in /usr/local/Caskroom/miniconda/base/lib/python3.9/site-packages (from uvicorn) (8.1.3)\n",
      "Requirement already satisfied: idna>=2.8 in /usr/local/Caskroom/miniconda/base/lib/python3.9/site-packages (from anyio<5,>=3.4.0->starlette==0.20.4->fastapi) (3.3)\n",
      "Requirement already satisfied: sniffio>=1.1 in /usr/local/Caskroom/miniconda/base/lib/python3.9/site-packages (from anyio<5,>=3.4.0->starlette==0.20.4->fastapi) (1.3.0)\n",
      "Installing collected packages: h11, uvicorn\n",
      "Successfully installed h11-0.14.0 uvicorn-0.19.0\n",
      "Note: you may need to restart the kernel to use updated packages.\n"
     ]
    }
   ],
   "source": [
    "%pip install nest_asyncio fastapi uvicorn"
   ]
  },
  {
   "cell_type": "code",
   "execution_count": 12,
   "metadata": {},
   "outputs": [],
   "source": [
    "from typing import Optional \n",
    "from fastapi import FastAPI\n",
    "from fastapi.middleware.cors import CORSMiddleware \n",
    "from fastapi.responses import HTMLResponse\n",
    "from fastapi.staticfiles import StaticFiles\n",
    "\n",
    "app = FastAPI() \n",
    "\n",
    "origins = [ \n",
    "    \"http://localhost\", \n",
    "    \"http://localhost:8080\", \n",
    "] \n",
    "\n",
    "app.add_middleware( \n",
    "    CORSMiddleware, \n",
    "    allow_origins=origins, \n",
    "    allow_credentials=True, \n",
    "    allow_methods=[\"*\"], \n",
    "    allow_headers=[\"*\"], \n",
    ") \n",
    "\n",
    "@app.get(\"/\", response_class=HTMLResponse) \n",
    "def read_root(): \n",
    "    return open(\"index.html\").read()\n",
    "\n",
    "app.mount(\"/static\", StaticFiles(directory=\"static\"), name=\"static\")\n",
    "\n",
    "@app.get(\"/items/{item_id}\") \n",
    "def read_item(item_id: int, q: Optional[str] = None): \n",
    "    return {\"item_id\": item_id, \"q\": q} "
   ]
  },
  {
   "cell_type": "code",
   "execution_count": 13,
   "metadata": {},
   "outputs": [
    {
     "name": "stderr",
     "output_type": "stream",
     "text": [
      "INFO:     Started server process [70314]\n",
      "INFO:     Waiting for application startup.\n",
      "INFO:     Application startup complete.\n",
      "INFO:     Uvicorn running on http://127.0.0.1:8000 (Press CTRL+C to quit)\n"
     ]
    },
    {
     "name": "stdout",
     "output_type": "stream",
     "text": [
      "INFO:     127.0.0.1:53830 - \"GET / HTTP/1.1\" 200 OK\n",
      "INFO:     127.0.0.1:53830 - \"GET /styles/main_page.css HTTP/1.1\" 200 OK\n"
     ]
    }
   ],
   "source": [
    "import nest_asyncio \n",
    "import uvicorn \n",
    "\n",
    "nest_asyncio.apply() \n",
    "uvicorn.run(app, port=8000) "
   ]
  },
  {
   "cell_type": "code",
   "execution_count": null,
   "metadata": {},
   "outputs": [],
   "source": []
  }
 ],
 "metadata": {
  "kernelspec": {
   "display_name": "Python 3.9.12 ('base')",
   "language": "python",
   "name": "python3"
  },
  "language_info": {
   "codemirror_mode": {
    "name": "ipython",
    "version": 3
   },
   "file_extension": ".py",
   "mimetype": "text/x-python",
   "name": "python",
   "nbconvert_exporter": "python",
   "pygments_lexer": "ipython3",
   "version": "3.9.12"
  },
  "orig_nbformat": 4,
  "vscode": {
   "interpreter": {
    "hash": "c30f2af5f468e7f5b45bcc30fca5f4886c90d54777aed916ed5f6294dfb24bf2"
   }
  }
 },
 "nbformat": 4,
 "nbformat_minor": 2
}
