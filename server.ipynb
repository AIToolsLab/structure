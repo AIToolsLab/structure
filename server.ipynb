{
 "cells": [
  {
   "cell_type": "code",
   "execution_count": null,
   "metadata": {},
   "outputs": [],
   "source": [
    "%pip install nest_asyncio fastapi uvicorn"
   ]
  },
  {
   "cell_type": "code",
   "execution_count": 1,
   "metadata": {},
   "outputs": [],
   "source": [
    "from typing import Optional \n",
    "from fastapi import FastAPI\n",
    "from fastapi.middleware.cors import CORSMiddleware \n",
    "\n",
    "app = FastAPI() \n",
    "\n",
    "origins = [ \n",
    "    \"http://localhost\", \n",
    "    \"http://localhost:8080\", \n",
    "] \n",
    "\n",
    "app.add_middleware( \n",
    "    CORSMiddleware, \n",
    "    allow_origins=origins, \n",
    "    allow_credentials=True, \n",
    "    allow_methods=[\"*\"], \n",
    "    allow_headers=[\"*\"], \n",
    ") \n",
    "\n",
    "@app.get(\"/\") \n",
    "def read_root(): \n",
    "    return {\"Hello\": \"World\"} \n",
    "\n",
    "@app.get(\"/items/{item_id}\") \n",
    "def read_item(item_id: int, q: Optional[str] = None): \n",
    "    return {\"item_id\": item_id, \"q\": q} "
   ]
  },
  {
   "cell_type": "code",
   "execution_count": 2,
   "metadata": {},
   "outputs": [
    {
     "name": "stderr",
     "output_type": "stream",
     "text": [
      "INFO:     Started server process [92892]\n",
      "INFO:     Waiting for application startup.\n",
      "INFO:     Application startup complete.\n",
      "INFO:     Uvicorn running on http://127.0.0.1:8000 (Press CTRL+C to quit)\n"
     ]
    },
    {
     "name": "stdout",
     "output_type": "stream",
     "text": [
      "INFO:     127.0.0.1:55998 - \"GET / HTTP/1.1\" 200 OK\n"
     ]
    },
    {
     "name": "stderr",
     "output_type": "stream",
     "text": [
      "INFO:     Shutting down\n",
      "INFO:     Waiting for application shutdown.\n",
      "INFO:     Application shutdown complete.\n",
      "INFO:     Finished server process [92892]\n"
     ]
    }
   ],
   "source": [
    "import nest_asyncio \n",
    "import uvicorn \n",
    "\n",
    "nest_asyncio.apply() \n",
    "uvicorn.run(app, port=8000) "
   ]
  },
  {
   "cell_type": "code",
   "execution_count": null,
   "metadata": {},
   "outputs": [],
   "source": []
  }
 ],
 "metadata": {
  "kernelspec": {
   "display_name": "Python 3.10.5 ('fa22')",
   "language": "python",
   "name": "python3"
  },
  "language_info": {
   "codemirror_mode": {
    "name": "ipython",
    "version": 3
   },
   "file_extension": ".py",
   "mimetype": "text/x-python",
   "name": "python",
   "nbconvert_exporter": "python",
   "pygments_lexer": "ipython3",
   "version": "3.10.5"
  },
  "orig_nbformat": 4,
  "vscode": {
   "interpreter": {
    "hash": "74acacffd0749514a06dc7848c6df011b7a94ca944d93916dccfefa4cad34482"
   }
  }
 },
 "nbformat": 4,
 "nbformat_minor": 2
}
