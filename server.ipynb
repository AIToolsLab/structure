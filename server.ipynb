{
 "cells": [
  {
   "cell_type": "code",
   "execution_count": 1,
   "metadata": {},
   "outputs": [
    {
     "name": "stdout",
     "output_type": "stream",
     "text": [
      "Requirement already satisfied: nest_asyncio in c:\\users\\young kwang choi\\appdata\\roaming\\python\\python310\\site-packages (1.5.6)\n",
      "Collecting fastapi\n",
      "  Downloading fastapi-0.86.0-py3-none-any.whl (55 kB)\n",
      "     ---------------------------------------- 55.5/55.5 kB 1.5 MB/s eta 0:00:00\n",
      "Collecting uvicorn\n",
      "  Downloading uvicorn-0.19.0-py3-none-any.whl (56 kB)\n",
      "     ---------------------------------------- 56.6/56.6 kB 2.9 MB/s eta 0:00:00\n",
      "Collecting pydantic!=1.7,!=1.7.1,!=1.7.2,!=1.7.3,!=1.8,!=1.8.1,<2.0.0,>=1.6.2\n",
      "  Downloading pydantic-1.10.2-cp310-cp310-win_amd64.whl (2.1 MB)\n",
      "     ---------------------------------------- 2.1/2.1 MB 18.9 MB/s eta 0:00:00\n",
      "Collecting starlette==0.20.4\n",
      "  Downloading starlette-0.20.4-py3-none-any.whl (63 kB)\n",
      "     ---------------------------------------- 63.6/63.6 kB ? eta 0:00:00\n",
      "Collecting anyio<5,>=3.4.0\n",
      "  Downloading anyio-3.6.2-py3-none-any.whl (80 kB)\n",
      "     ---------------------------------------- 80.6/80.6 kB ? eta 0:00:00\n",
      "Collecting click>=7.0\n",
      "  Downloading click-8.1.3-py3-none-any.whl (96 kB)\n",
      "     ---------------------------------------- 96.6/96.6 kB ? eta 0:00:00\n",
      "Collecting h11>=0.8\n",
      "  Downloading h11-0.14.0-py3-none-any.whl (58 kB)\n",
      "     ---------------------------------------- 58.3/58.3 kB ? eta 0:00:00\n",
      "Requirement already satisfied: colorama in c:\\users\\young kwang choi\\appdata\\roaming\\python\\python310\\site-packages (from click>=7.0->uvicorn) (0.4.6)\n",
      "Requirement already satisfied: typing-extensions>=4.1.0 in c:\\users\\young kwang choi\\appdata\\local\\programs\\python\\python310\\lib\\site-packages (from pydantic!=1.7,!=1.7.1,!=1.7.2,!=1.7.3,!=1.8,!=1.8.1,<2.0.0,>=1.6.2->fastapi) (4.3.0)\n",
      "Collecting idna>=2.8\n",
      "  Downloading idna-3.4-py3-none-any.whl (61 kB)\n",
      "     ---------------------------------------- 61.5/61.5 kB 3.4 MB/s eta 0:00:00\n",
      "Collecting sniffio>=1.1\n",
      "  Downloading sniffio-1.3.0-py3-none-any.whl (10 kB)\n",
      "Installing collected packages: sniffio, pydantic, idna, h11, click, uvicorn, anyio, starlette, fastapi\n",
      "Successfully installed anyio-3.6.2 click-8.1.3 fastapi-0.86.0 h11-0.14.0 idna-3.4 pydantic-1.10.2 sniffio-1.3.0 starlette-0.20.4 uvicorn-0.19.0\n",
      "Note: you may need to restart the kernel to use updated packages.\n"
     ]
    },
    {
     "name": "stderr",
     "output_type": "stream",
     "text": [
      "  WARNING: The script uvicorn.exe is installed in 'c:\\Users\\Young Kwang Choi\\AppData\\Local\\Programs\\Python\\Python310\\Scripts' which is not on PATH.\n",
      "  Consider adding this directory to PATH or, if you prefer to suppress this warning, use --no-warn-script-location.\n",
      "\n",
      "[notice] A new release of pip available: 22.2.2 -> 22.3.1\n",
      "[notice] To update, run: python.exe -m pip install --upgrade pip\n"
     ]
    }
   ],
   "source": [
    "%pip install nest_asyncio fastapi uvicorn"
   ]
  },
  {
   "cell_type": "code",
   "execution_count": 5,
   "metadata": {},
   "outputs": [
    {
     "name": "stderr",
     "output_type": "stream",
     "text": [
      "'pip' is not recognized as an internal or external command,\n",
      "operable program or batch file.\n",
      "'pip' is not recognized as an internal or external command,\n",
      "operable program or batch file.\n"
     ]
    },
    {
     "name": "stdout",
     "output_type": "stream",
     "text": [
      "Collecting en-core-web-sm==3.4.1\n",
      "  Downloading https://github.com/explosion/spacy-models/releases/download/en_core_web_sm-3.4.1/en_core_web_sm-3.4.1-py3-none-any.whl (12.8 MB)\n",
      "     --------------------------------------- 12.8/12.8 MB 16.0 MB/s eta 0:00:00\n",
      "Requirement already satisfied: spacy<3.5.0,>=3.4.0 in c:\\users\\young kwang choi\\appdata\\local\\programs\\python\\python310\\lib\\site-packages (from en-core-web-sm==3.4.1) (3.4.3)\n",
      "Requirement already satisfied: requests<3.0.0,>=2.13.0 in c:\\users\\young kwang choi\\appdata\\local\\programs\\python\\python310\\lib\\site-packages (from spacy<3.5.0,>=3.4.0->en-core-web-sm==3.4.1) (2.28.1)\n",
      "Requirement already satisfied: setuptools in c:\\users\\young kwang choi\\appdata\\local\\programs\\python\\python310\\lib\\site-packages (from spacy<3.5.0,>=3.4.0->en-core-web-sm==3.4.1) (65.6.3)\n",
      "Requirement already satisfied: tqdm<5.0.0,>=4.38.0 in c:\\users\\young kwang choi\\appdata\\local\\programs\\python\\python310\\lib\\site-packages (from spacy<3.5.0,>=3.4.0->en-core-web-sm==3.4.1) (4.64.1)\n",
      "Requirement already satisfied: murmurhash<1.1.0,>=0.28.0 in c:\\users\\young kwang choi\\appdata\\local\\programs\\python\\python310\\lib\\site-packages (from spacy<3.5.0,>=3.4.0->en-core-web-sm==3.4.1) (1.0.9)\n",
      "Requirement already satisfied: pydantic!=1.8,!=1.8.1,<1.11.0,>=1.7.4 in c:\\users\\young kwang choi\\appdata\\local\\programs\\python\\python310\\lib\\site-packages (from spacy<3.5.0,>=3.4.0->en-core-web-sm==3.4.1) (1.10.2)\n",
      "Requirement already satisfied: packaging>=20.0 in c:\\users\\young kwang choi\\appdata\\roaming\\python\\python310\\site-packages (from spacy<3.5.0,>=3.4.0->en-core-web-sm==3.4.1) (21.3)\n",
      "Requirement already satisfied: spacy-loggers<2.0.0,>=1.0.0 in c:\\users\\young kwang choi\\appdata\\local\\programs\\python\\python310\\lib\\site-packages (from spacy<3.5.0,>=3.4.0->en-core-web-sm==3.4.1) (1.0.3)\n",
      "Requirement already satisfied: pathy>=0.3.5 in c:\\users\\young kwang choi\\appdata\\local\\programs\\python\\python310\\lib\\site-packages (from spacy<3.5.0,>=3.4.0->en-core-web-sm==3.4.1) (0.10.0)\n",
      "Requirement already satisfied: thinc<8.2.0,>=8.1.0 in c:\\users\\young kwang choi\\appdata\\local\\programs\\python\\python310\\lib\\site-packages (from spacy<3.5.0,>=3.4.0->en-core-web-sm==3.4.1) (8.1.5)\n",
      "Requirement already satisfied: typer<0.8.0,>=0.3.0 in c:\\users\\young kwang choi\\appdata\\local\\programs\\python\\python310\\lib\\site-packages (from spacy<3.5.0,>=3.4.0->en-core-web-sm==3.4.1) (0.7.0)\n",
      "Requirement already satisfied: jinja2 in c:\\users\\young kwang choi\\appdata\\local\\programs\\python\\python310\\lib\\site-packages (from spacy<3.5.0,>=3.4.0->en-core-web-sm==3.4.1) (3.1.2)\n",
      "Requirement already satisfied: spacy-legacy<3.1.0,>=3.0.10 in c:\\users\\young kwang choi\\appdata\\local\\programs\\python\\python310\\lib\\site-packages (from spacy<3.5.0,>=3.4.0->en-core-web-sm==3.4.1) (3.0.10)\n",
      "Requirement already satisfied: wasabi<1.1.0,>=0.9.1 in c:\\users\\young kwang choi\\appdata\\local\\programs\\python\\python310\\lib\\site-packages (from spacy<3.5.0,>=3.4.0->en-core-web-sm==3.4.1) (0.10.1)\n",
      "Requirement already satisfied: preshed<3.1.0,>=3.0.2 in c:\\users\\young kwang choi\\appdata\\local\\programs\\python\\python310\\lib\\site-packages (from spacy<3.5.0,>=3.4.0->en-core-web-sm==3.4.1) (3.0.8)\n",
      "Requirement already satisfied: numpy>=1.15.0 in c:\\users\\young kwang choi\\appdata\\local\\programs\\python\\python310\\lib\\site-packages (from spacy<3.5.0,>=3.4.0->en-core-web-sm==3.4.1) (1.23.5)\n",
      "Requirement already satisfied: catalogue<2.1.0,>=2.0.6 in c:\\users\\young kwang choi\\appdata\\local\\programs\\python\\python310\\lib\\site-packages (from spacy<3.5.0,>=3.4.0->en-core-web-sm==3.4.1) (2.0.8)\n",
      "Requirement already satisfied: langcodes<4.0.0,>=3.2.0 in c:\\users\\young kwang choi\\appdata\\local\\programs\\python\\python310\\lib\\site-packages (from spacy<3.5.0,>=3.4.0->en-core-web-sm==3.4.1) (3.3.0)\n",
      "Requirement already satisfied: cymem<2.1.0,>=2.0.2 in c:\\users\\young kwang choi\\appdata\\local\\programs\\python\\python310\\lib\\site-packages (from spacy<3.5.0,>=3.4.0->en-core-web-sm==3.4.1) (2.0.7)\n",
      "Requirement already satisfied: srsly<3.0.0,>=2.4.3 in c:\\users\\young kwang choi\\appdata\\local\\programs\\python\\python310\\lib\\site-packages (from spacy<3.5.0,>=3.4.0->en-core-web-sm==3.4.1) (2.4.5)\n",
      "Requirement already satisfied: pyparsing!=3.0.5,>=2.0.2 in c:\\users\\young kwang choi\\appdata\\roaming\\python\\python310\\site-packages (from packaging>=20.0->spacy<3.5.0,>=3.4.0->en-core-web-sm==3.4.1) (3.0.9)\n",
      "Requirement already satisfied: smart-open<6.0.0,>=5.2.1 in c:\\users\\young kwang choi\\appdata\\local\\programs\\python\\python310\\lib\\site-packages (from pathy>=0.3.5->spacy<3.5.0,>=3.4.0->en-core-web-sm==3.4.1) (5.2.1)\n",
      "Requirement already satisfied: typing-extensions>=4.1.0 in c:\\users\\young kwang choi\\appdata\\local\\programs\\python\\python310\\lib\\site-packages (from pydantic!=1.8,!=1.8.1,<1.11.0,>=1.7.4->spacy<3.5.0,>=3.4.0->en-core-web-sm==3.4.1) (4.3.0)\n",
      "Requirement already satisfied: urllib3<1.27,>=1.21.1 in c:\\users\\young kwang choi\\appdata\\local\\programs\\python\\python310\\lib\\site-packages (from requests<3.0.0,>=2.13.0->spacy<3.5.0,>=3.4.0->en-core-web-sm==3.4.1) (1.26.13)\n",
      "Requirement already satisfied: charset-normalizer<3,>=2 in c:\\users\\young kwang choi\\appdata\\local\\programs\\python\\python310\\lib\\site-packages (from requests<3.0.0,>=2.13.0->spacy<3.5.0,>=3.4.0->en-core-web-sm==3.4.1) (2.1.1)\n",
      "Requirement already satisfied: idna<4,>=2.5 in c:\\users\\young kwang choi\\appdata\\local\\programs\\python\\python310\\lib\\site-packages (from requests<3.0.0,>=2.13.0->spacy<3.5.0,>=3.4.0->en-core-web-sm==3.4.1) (3.4)\n",
      "Requirement already satisfied: certifi>=2017.4.17 in c:\\users\\young kwang choi\\appdata\\local\\programs\\python\\python310\\lib\\site-packages (from requests<3.0.0,>=2.13.0->spacy<3.5.0,>=3.4.0->en-core-web-sm==3.4.1) (2022.9.24)\n",
      "Requirement already satisfied: blis<0.8.0,>=0.7.8 in c:\\users\\young kwang choi\\appdata\\local\\programs\\python\\python310\\lib\\site-packages (from thinc<8.2.0,>=8.1.0->spacy<3.5.0,>=3.4.0->en-core-web-sm==3.4.1) (0.7.9)\n",
      "Requirement already satisfied: confection<1.0.0,>=0.0.1 in c:\\users\\young kwang choi\\appdata\\local\\programs\\python\\python310\\lib\\site-packages (from thinc<8.2.0,>=8.1.0->spacy<3.5.0,>=3.4.0->en-core-web-sm==3.4.1) (0.0.3)\n",
      "Requirement already satisfied: colorama in c:\\users\\young kwang choi\\appdata\\roaming\\python\\python310\\site-packages (from tqdm<5.0.0,>=4.38.0->spacy<3.5.0,>=3.4.0->en-core-web-sm==3.4.1) (0.4.6)\n",
      "Requirement already satisfied: click<9.0.0,>=7.1.1 in c:\\users\\young kwang choi\\appdata\\local\\programs\\python\\python310\\lib\\site-packages (from typer<0.8.0,>=0.3.0->spacy<3.5.0,>=3.4.0->en-core-web-sm==3.4.1) (8.1.3)\n",
      "Requirement already satisfied: MarkupSafe>=2.0 in c:\\users\\young kwang choi\\appdata\\local\\programs\\python\\python310\\lib\\site-packages (from jinja2->spacy<3.5.0,>=3.4.0->en-core-web-sm==3.4.1) (2.1.1)\n",
      "Installing collected packages: en-core-web-sm\n",
      "Successfully installed en-core-web-sm-3.4.1\n",
      "✔ Download and installation successful\n",
      "You can now load the package via spacy.load('en_core_web_sm')\n"
     ]
    }
   ],
   "source": [
    "%pip install -U pip setuptools wheel\n",
    "%pip install -U spacy\n",
    "%python -m spacy download en_core_web_sm"
   ]
  },
  {
   "cell_type": "code",
   "execution_count": 6,
   "metadata": {},
   "outputs": [],
   "source": [
    "import spacy\n",
    "nlp = spacy.load(\"en_core_web_sm\")"
   ]
  },
  {
   "cell_type": "code",
   "execution_count": 12,
   "metadata": {},
   "outputs": [
    {
     "data": {
      "text/plain": [
       "array([ 0.36412475, -0.34964547, -0.07288889,  0.01115141, -0.09665746,\n",
       "       -0.13041809,  0.03804103, -0.14087254,  0.38058534, -0.31601316,\n",
       "       -0.01602342,  0.07879649,  0.22894816, -0.08993516, -0.07089796,\n",
       "        0.23057842,  0.20055601, -0.07289458, -0.11813525, -0.43322614,\n",
       "       -0.23411296, -0.029484  , -0.13228233, -0.03238844, -0.08504056,\n",
       "        0.08680927,  0.1769396 , -0.02452788, -0.11452803,  0.4664675 ,\n",
       "       -0.14668739,  0.29825854, -0.05840545, -0.14344813, -0.43355596,\n",
       "        0.31687537, -0.08918015, -0.5862648 ,  0.03520649,  0.2201905 ,\n",
       "        0.17043109,  0.08426867,  0.07094428, -0.3983724 ,  0.22248851,\n",
       "        0.234427  ,  0.21330202,  0.55170685,  0.07094411,  0.2475474 ,\n",
       "        0.14227915, -0.05927944,  0.11553027,  0.4276002 , -0.0017784 ,\n",
       "       -0.02812747,  0.55727404, -0.18277158, -0.19717887,  0.4324151 ,\n",
       "       -0.21711686, -0.2926598 , -0.15156676, -0.09189782, -0.2099954 ,\n",
       "       -0.37468153, -0.2644845 , -0.16071899, -0.15423143, -0.10192737,\n",
       "        0.19845676,  0.03058062, -0.63027537, -0.139251  , -0.0979144 ,\n",
       "        0.18315692,  0.12782581,  0.07534137, -0.21129777,  0.10858534,\n",
       "        0.17487395,  0.22140312,  0.28995535,  0.2531365 , -0.13450623,\n",
       "       -0.3011776 ,  0.18043768,  0.20236893,  0.0766571 ,  0.00443964,\n",
       "       -0.4078637 , -0.28683475,  0.32307476, -0.3554244 ,  0.14245965,\n",
       "       -0.46397695], dtype=float32)"
      ]
     },
     "execution_count": 12,
     "metadata": {},
     "output_type": "execute_result"
    }
   ],
   "source": [
    "outline_sections = [\n",
    "    \"It took me eighteen years to realize what an extraordinary influence my mother has been on my life.\",\n",
    "    \"Her mother's enthusiasm for learning.\",\n",
    "    \"Learning through travel by using the example of a trip to Greece.\",\n",
    "    \"While I treasure the various worlds my mother has opened to me abroad, my life has been equally transformed by what she has shown me just two miles from my house.\",\n",
    "    \"Her mother's dedication to the community.\",\n",
    "    \"Her multiple volunteer activities such as helping at the local soup kitchen.\",\n",
    "    \"Everything that my mother has ever done has been overshadowed by the thought behind it.\",\n",
    "    \"She has enriched my life with her passion for learning, and changed it with her devotion to humanity.\",\n",
    "    \"Next year, I will find a new home miles away. However, my mother will always be by my side.\"\n",
    "]\n",
    "doc_paragraphs = outline_sections\n",
    "doc = nlp(outline_sections[0])\n",
    "doc.vector"
   ]
  },
  {
   "cell_type": "code",
   "execution_count": 43,
   "metadata": {},
   "outputs": [
    {
     "name": "stderr",
     "output_type": "stream",
     "text": [
      "C:\\Users\\Young Kwang Choi\\AppData\\Local\\Temp\\ipykernel_10308\\4215040712.py:12: UserWarning: [W007] The model you're using has no word vectors loaded, so the result of the Token.similarity method will be based on the tagger, parser and NER, which may not give useful similarity judgements. This may happen if you're using one of the small models, e.g. `en_core_web_sm`, which don't ship with word vectors and only use context-sensitive tensors. You can always add your own word vectors, or use one of the larger models instead if available.\n",
      "  [example_doc[0].similarity(doc) for doc in doc_docs]\n"
     ]
    },
    {
     "data": {
      "text/plain": [
       "[0.29421465622878756,\n",
       " 0.16838800347629945,\n",
       " -0.058501504933975886,\n",
       " 0.3447758617483939,\n",
       " 0.18226319294470344,\n",
       " 0.14160471798355553,\n",
       " 0.2737162035636389,\n",
       " 0.16334003178284334,\n",
       " 0.26908908298240336]"
      ]
     },
     "execution_count": 43,
     "metadata": {},
     "output_type": "execute_result"
    }
   ],
   "source": [
    "example = [\n",
    "\"It took me eighteen years to realize what an extraordinary influence my mother has been on my life.\",\n",
    "\"She's the kind of person who has thoughtful discussions about which artist she would most want to have her portrait painted by (Sargent), the kind of mother who always has time for her four children, and the kind of community leader who has a seat on the board of every major project to assist Washington's impoverished citizens.\",\n",
    "\"Growing up with such a strong role model, I developed many of her enthusiasms.I not only came to love the excitement of learning simply for the sake of knowing something new, but I also came to understand the idea of giving back to the community in exchange for a new sense of life, love, and spirit.\",\n",
    "\"My mother's enthusiasm for learning is most apparent in travel.\",\n",
    "\"Despite the fact that we were traveling with fourteen-month-old twins, we managed to be at each ruin when the site opened at sunrise.\",\n",
    "\"I vividly remember standing in an empty amphitheatre pretending to be an ancient tragedian, picking out my favorite sculpture in the Acropolis museum, and inserting our family into modified tales of the battle at Troy.\",\n",
    "\"Eight years and half a dozen passport stamps later I have come to value what I have learned on these journes about global history, politics and culture, as well as my family and myself.\",\n",
    "\"I was nine years old when my family visited Greece. Every night for three weeks before the trip, my older brother Peter and I sat with my mother on her bed reading Greek myths and taking notes on the Greek Gods.\",\n",
    "'''While I treasure the various worlds my mother has opened to me abroad, my life has been equally transformed by what she has shown me just two miles from my house.''',\n",
    "'''As a ten year old, I often accompanied my mother to (name deleted), a local soup kitchen and children's center.''',\n",
    "\"While she attended meetings, I helped with the Summer Program by chasing children around the building and performing magic tricks.\",\n",
    "'''Having finally perfected the \"floating paintbrush\" trick, I began work as a full time volunteer with the five and six year old children last June.''',\n",
    "\"It is here that I met Jane Doe, an exceptionally strong girl with a vigor that is contagious.\",\n",
    "\"At the end of the summer, I decided to continue my work at (name deleted) as Jane's tutor.Although the position is often difficult, the personal rewards are beyond articulation.\",\n",
    "\"In the seven years since I first walked through the doors of (name deleted), I have learned not only the idea of giving to others, but also of deriving from them a sense of spirit.\",\n",
    "\"Everything that my mother has ever done has been overshadowed by the thought behind it.\",\n",
    "\"While the raw experiences I have had at home and abroad have been spectacular, I have learned to truly value them by watching my mother.\",\n",
    "\"She has enriched my life with her passion for learning, and changed it with her devotion to humanity.\",\n",
    "\"In her endless love of everything and everyone she is touched by, I have seen a hope and life that is truly exceptional.\",\n",
    "\"Next year, I will find a new home miles away. However, my mother will always be by my side.\"\n",
    "]\n",
    "example_doc = nlp(example[0])\n",
    "outline_docs = [nlp(sec) for sec in outline_sections]\n",
    "doc_docs = [nlp(sec) for sec in doc_paragraphs]\n",
    "[example_doc[0].similarity(doc) for doc in doc_docs]"
   ]
  },
  {
   "cell_type": "code",
   "execution_count": 10,
   "metadata": {},
   "outputs": [
    {
     "name": "stderr",
     "output_type": "stream",
     "text": [
      "INFO:     Started server process [10308]\n",
      "INFO:     Waiting for application startup.\n",
      "INFO:     Application startup complete.\n",
      "INFO:     Uvicorn running on http://127.0.0.1:8000 (Press CTRL+C to quit)\n"
     ]
    },
    {
     "name": "stdout",
     "output_type": "stream",
     "text": [
      "INFO:     127.0.0.1:58034 - \"GET / HTTP/1.1\" 200 OK\n",
      "INFO:     127.0.0.1:58035 - \"GET /item HTTP/1.1\" 200 OK\n"
     ]
    },
    {
     "name": "stderr",
     "output_type": "stream",
     "text": [
      "INFO:     Shutting down\n",
      "INFO:     Waiting for application shutdown.\n",
      "INFO:     Application shutdown complete.\n",
      "INFO:     Finished server process [10308]\n"
     ]
    }
   ],
   "source": [
    "from typing import Optional \n",
    "from fastapi import FastAPI, Response\n",
    "from fastapi.middleware.cors import CORSMiddleware \n",
    "from fastapi.responses import HTMLResponse, PlainTextResponse\n",
    "from fastapi.staticfiles import StaticFiles\n",
    "import json\n",
    "\n",
    "\n",
    "app = FastAPI() \n",
    "\n",
    "origins = [ \n",
    "    \"http://localhost\", \n",
    "    \"http://localhost:8080\", \n",
    "] \n",
    "\n",
    "app.add_middleware( \n",
    "    CORSMiddleware, \n",
    "    allow_origins=origins, \n",
    "    allow_credentials=True, \n",
    "    allow_methods=[\"*\"], \n",
    "    allow_headers=[\"*\"], \n",
    ") \n",
    "\n",
    "@app.get(\"/\", response_class=HTMLResponse) \n",
    "def read_root(): \n",
    "    return open(\"index.html\").read()\n",
    "\n",
    "app.mount(\"/static\", StaticFiles(directory=\"static\"), name=\"static\")\n",
    "\n",
    "@app.get(\"/items/{item_id}\") \n",
    "def read_item(item_id: int, q: Optional[str] = None): \n",
    "    return {\"item_id\": item_id, \"q\": q}\n",
    "\n",
    "@app.get(\"/item\")\n",
    "async def read_items():\n",
    "    # data = \"My mother's enthusiasm for learning is most apparent in travel. Despite the fact that we were traveling with fourteen-month-old twins, we managed to be at each ruin when the site opened at sunrise. I vividly remember standing in an empty amphitheatre pretending to be an ancient tragedian, picking out my favorite sculpture in the Acropolis museum, and inserting our family into modified tales of the battle at Troy. I was nine years old when my family visited Greece. Every night for three weeks before the trip, my older brother Peter and I sat with my mother on her bed reading Greek myths and taking notes on the Greek Gods. Eight years and half a dozen passport stamps later I have come to value what I have learned on these journes about global history, politics and culture, as well as my family and myself.\"\n",
    "\n",
    "    data = (\n",
    "            {\n",
    "                \"text\":\"I vividly remember standing in an empty amphitheatre pretending to be an ancient tragedian, picking out my favorite sculpture in the Acropolis museum, and inserting our family into modified tales of the battle at Troy. \",\n",
    "                \"comment\":\"\",\n",
    "                \"new-order\":\"0\"\n",
    "                \n",
    "            },\n",
    "            {\n",
    "                \"text\":\"I was nine years old when my family visited Greece. \",\n",
    "                \"comment\":\"\",\n",
    "                \"new-order\":\"2\"\n",
    "                \n",
    "            },\n",
    "            {\n",
    "                \"text\":\"Every night for three weeks before the trip, my older brother Peter and I sat with my mother on her bed reading Greek myths and taking notes on the Greek Gods. \",\n",
    "                \"comment\":\"\",\n",
    "                \"new-order\":\"3\"\n",
    "                \n",
    "            },\n",
    "            {\n",
    "                \"text\":\"Eight years and half a dozen passport stamps later I have come to value what I have learned on these journes about global history, politics and culture, as well as my family and myself. \",\n",
    "                \"comment\":\"\",\n",
    "                \"new-order\":\"1\"\n",
    "                \n",
    "            }\n",
    "    )\n",
    "    return data\n",
    "\n",
    "import nest_asyncio \n",
    "import uvicorn \n",
    "\n",
    "nest_asyncio.apply() \n",
    "uvicorn.run(app, port=8000) "
   ]
  },
  {
   "cell_type": "code",
   "execution_count": 2,
   "metadata": {},
   "outputs": [
    {
     "name": "stderr",
     "output_type": "stream",
     "text": [
      "INFO:     Started server process [22404]\n",
      "INFO:     Waiting for application startup.\n",
      "INFO:     Application startup complete.\n",
      "INFO:     Uvicorn running on http://127.0.0.1:8000 (Press CTRL+C to quit)\n",
      "INFO:     Shutting down\n",
      "INFO:     Waiting for application shutdown.\n",
      "INFO:     Application shutdown complete.\n",
      "INFO:     Finished server process [22404]\n"
     ]
    }
   ],
   "source": []
  },
  {
   "cell_type": "code",
   "execution_count": null,
   "metadata": {},
   "outputs": [],
   "source": []
  }
 ],
 "metadata": {
  "kernelspec": {
   "display_name": "Python 3.10.6 64-bit",
   "language": "python",
   "name": "python3"
  },
  "language_info": {
   "codemirror_mode": {
    "name": "ipython",
    "version": 3
   },
   "file_extension": ".py",
   "mimetype": "text/x-python",
   "name": "python",
   "nbconvert_exporter": "python",
   "pygments_lexer": "ipython3",
   "version": "3.10.6"
  },
  "orig_nbformat": 4,
  "vscode": {
   "interpreter": {
    "hash": "21ffe169cce36b7162031ce8f4916e944371f450e151260b395b4a6b86d00233"
   }
  }
 },
 "nbformat": 4,
 "nbformat_minor": 2
}
