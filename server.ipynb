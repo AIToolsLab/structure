{
 "cells": [
  {
   "cell_type": "code",
   "execution_count": 1,
   "metadata": {},
   "outputs": [
    {
     "name": "stdout",
     "output_type": "stream",
     "text": [
      "Requirement already satisfied: nest_asyncio in c:\\users\\young kwang choi\\appdata\\roaming\\python\\python310\\site-packages (1.5.6)\n",
      "Collecting fastapi\n",
      "  Downloading fastapi-0.86.0-py3-none-any.whl (55 kB)\n",
      "     ---------------------------------------- 55.5/55.5 kB 1.5 MB/s eta 0:00:00\n",
      "Collecting uvicorn\n",
      "  Downloading uvicorn-0.19.0-py3-none-any.whl (56 kB)\n",
      "     ---------------------------------------- 56.6/56.6 kB 2.9 MB/s eta 0:00:00\n",
      "Collecting pydantic!=1.7,!=1.7.1,!=1.7.2,!=1.7.3,!=1.8,!=1.8.1,<2.0.0,>=1.6.2\n",
      "  Downloading pydantic-1.10.2-cp310-cp310-win_amd64.whl (2.1 MB)\n",
      "     ---------------------------------------- 2.1/2.1 MB 18.9 MB/s eta 0:00:00\n",
      "Collecting starlette==0.20.4\n",
      "  Downloading starlette-0.20.4-py3-none-any.whl (63 kB)\n",
      "     ---------------------------------------- 63.6/63.6 kB ? eta 0:00:00\n",
      "Collecting anyio<5,>=3.4.0\n",
      "  Downloading anyio-3.6.2-py3-none-any.whl (80 kB)\n",
      "     ---------------------------------------- 80.6/80.6 kB ? eta 0:00:00\n",
      "Collecting click>=7.0\n",
      "  Downloading click-8.1.3-py3-none-any.whl (96 kB)\n",
      "     ---------------------------------------- 96.6/96.6 kB ? eta 0:00:00\n",
      "Collecting h11>=0.8\n",
      "  Downloading h11-0.14.0-py3-none-any.whl (58 kB)\n",
      "     ---------------------------------------- 58.3/58.3 kB ? eta 0:00:00\n",
      "Requirement already satisfied: colorama in c:\\users\\young kwang choi\\appdata\\roaming\\python\\python310\\site-packages (from click>=7.0->uvicorn) (0.4.6)\n",
      "Requirement already satisfied: typing-extensions>=4.1.0 in c:\\users\\young kwang choi\\appdata\\local\\programs\\python\\python310\\lib\\site-packages (from pydantic!=1.7,!=1.7.1,!=1.7.2,!=1.7.3,!=1.8,!=1.8.1,<2.0.0,>=1.6.2->fastapi) (4.3.0)\n",
      "Collecting idna>=2.8\n",
      "  Downloading idna-3.4-py3-none-any.whl (61 kB)\n",
      "     ---------------------------------------- 61.5/61.5 kB 3.4 MB/s eta 0:00:00\n",
      "Collecting sniffio>=1.1\n",
      "  Downloading sniffio-1.3.0-py3-none-any.whl (10 kB)\n",
      "Installing collected packages: sniffio, pydantic, idna, h11, click, uvicorn, anyio, starlette, fastapi\n",
      "Successfully installed anyio-3.6.2 click-8.1.3 fastapi-0.86.0 h11-0.14.0 idna-3.4 pydantic-1.10.2 sniffio-1.3.0 starlette-0.20.4 uvicorn-0.19.0\n",
      "Note: you may need to restart the kernel to use updated packages.\n"
     ]
    },
    {
     "name": "stderr",
     "output_type": "stream",
     "text": [
      "  WARNING: The script uvicorn.exe is installed in 'c:\\Users\\Young Kwang Choi\\AppData\\Local\\Programs\\Python\\Python310\\Scripts' which is not on PATH.\n",
      "  Consider adding this directory to PATH or, if you prefer to suppress this warning, use --no-warn-script-location.\n",
      "\n",
      "[notice] A new release of pip available: 22.2.2 -> 22.3.1\n",
      "[notice] To update, run: python.exe -m pip install --upgrade pip\n"
     ]
    }
   ],
   "source": [
    "%pip install nest_asyncio fastapi uvicorn"
   ]
  },
  {
   "cell_type": "code",
   "execution_count": 43,
   "metadata": {},
   "outputs": [
    {
     "name": "stderr",
     "output_type": "stream",
     "text": [
      "INFO:     Started server process [5056]\n",
      "INFO:     Waiting for application startup.\n",
      "INFO:     Application startup complete.\n",
      "INFO:     Uvicorn running on http://127.0.0.1:8000 (Press CTRL+C to quit)\n"
     ]
    },
    {
     "name": "stdout",
     "output_type": "stream",
     "text": [
      "INFO:     127.0.0.1:64476 - \"GET / HTTP/1.1\" 200 OK\n",
      "INFO:     127.0.0.1:64476 - \"GET /item HTTP/1.1\" 200 OK\n"
     ]
    }
   ],
   "source": [
    "from typing import Optional \n",
    "from fastapi import FastAPI, Response\n",
    "from fastapi.middleware.cors import CORSMiddleware \n",
    "from fastapi.responses import HTMLResponse, PlainTextResponse\n",
    "from fastapi.staticfiles import StaticFiles\n",
    "import json\n",
    "\n",
    "\n",
    "app = FastAPI() \n",
    "\n",
    "origins = [ \n",
    "    \"http://localhost\", \n",
    "    \"http://localhost:8080\", \n",
    "] \n",
    "\n",
    "app.add_middleware( \n",
    "    CORSMiddleware, \n",
    "    allow_origins=origins, \n",
    "    allow_credentials=True, \n",
    "    allow_methods=[\"*\"], \n",
    "    allow_headers=[\"*\"], \n",
    ") \n",
    "\n",
    "@app.get(\"/\", response_class=HTMLResponse) \n",
    "def read_root(): \n",
    "    return open(\"index.html\").read()\n",
    "\n",
    "app.mount(\"/static\", StaticFiles(directory=\"static\"), name=\"static\")\n",
    "\n",
    "@app.get(\"/items/{item_id}\") \n",
    "def read_item(item_id: int, q: Optional[str] = None): \n",
    "    return {\"item_id\": item_id, \"q\": q}\n",
    "\n",
    "@app.get(\"/item\")\n",
    "async def read_items():\n",
    "    # data = \"My mother's enthusiasm for learning is most apparent in travel. Despite the fact that we were traveling with fourteen-month-old twins, we managed to be at each ruin when the site opened at sunrise. I vividly remember standing in an empty amphitheatre pretending to be an ancient tragedian, picking out my favorite sculpture in the Acropolis museum, and inserting our family into modified tales of the battle at Troy. I was nine years old when my family visited Greece. Every night for three weeks before the trip, my older brother Peter and I sat with my mother on her bed reading Greek myths and taking notes on the Greek Gods. Eight years and half a dozen passport stamps later I have come to value what I have learned on these journes about global history, politics and culture, as well as my family and myself.\"\n",
    "\n",
    "    data = (\n",
    "            {\n",
    "                \"text\":\"I vividly remember standing in an empty amphitheatre pretending to be an ancient tragedian, picking out my favorite sculpture in the Acropolis museum, and inserting our family into modified tales of the battle at Troy. \",\n",
    "                \"comment\":\"\",\n",
    "                \"new-order\":\"0\"\n",
    "                \n",
    "            },\n",
    "            {\n",
    "                \"text\":\"I was nine years old when my family visited Greece. \",\n",
    "                \"comment\":\"\",\n",
    "                \"new-order\":\"2\"\n",
    "                \n",
    "            },\n",
    "            {\n",
    "                \"text\":\"Every night for three weeks before the trip, my older brother Peter and I sat with my mother on her bed reading Greek myths and taking notes on the Greek Gods. \",\n",
    "                \"comment\":\"\",\n",
    "                \"new-order\":\"3\"\n",
    "                \n",
    "            },\n",
    "            {\n",
    "                \"text\":\"Eight years and half a dozen passport stamps later I have come to value what I have learned on these journes about global history, politics and culture, as well as my family and myself. \",\n",
    "                \"comment\":\"\",\n",
    "                \"new-order\":\"1\"\n",
    "                \n",
    "            }\n",
    "    )\n",
    "    return data\n",
    "\n",
    "import nest_asyncio \n",
    "import uvicorn \n",
    "\n",
    "nest_asyncio.apply() \n",
    "uvicorn.run(app, port=8000) "
   ]
  },
  {
   "cell_type": "code",
   "execution_count": 2,
   "metadata": {},
   "outputs": [
    {
     "name": "stderr",
     "output_type": "stream",
     "text": [
      "INFO:     Started server process [22404]\n",
      "INFO:     Waiting for application startup.\n",
      "INFO:     Application startup complete.\n",
      "INFO:     Uvicorn running on http://127.0.0.1:8000 (Press CTRL+C to quit)\n",
      "INFO:     Shutting down\n",
      "INFO:     Waiting for application shutdown.\n",
      "INFO:     Application shutdown complete.\n",
      "INFO:     Finished server process [22404]\n"
     ]
    }
   ],
   "source": []
  },
  {
   "cell_type": "code",
   "execution_count": null,
   "metadata": {},
   "outputs": [],
   "source": []
  }
 ],
 "metadata": {
  "kernelspec": {
   "display_name": "Python 3.10.6 64-bit",
   "language": "python",
   "name": "python3"
  },
  "language_info": {
   "codemirror_mode": {
    "name": "ipython",
    "version": 3
   },
   "file_extension": ".py",
   "mimetype": "text/x-python",
   "name": "python",
   "nbconvert_exporter": "python",
   "pygments_lexer": "ipython3",
   "version": "3.10.6"
  },
  "orig_nbformat": 4,
  "vscode": {
   "interpreter": {
    "hash": "21ffe169cce36b7162031ce8f4916e944371f450e151260b395b4a6b86d00233"
   }
  }
 },
 "nbformat": 4,
 "nbformat_minor": 2
}
